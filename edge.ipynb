{
  "nbformat": 4,
  "nbformat_minor": 0,
  "metadata": {
    "colab": {
      "name": "edge.ipynb",
      "private_outputs": true,
      "provenance": []
    },
    "kernelspec": {
      "name": "python3",
      "display_name": "Python 3"
    },
    "language_info": {
      "name": "python"
    }
  },
  "cells": [
    {
      "cell_type": "code",
      "metadata": {
        "id": "qTqGaCAsxKhR"
      },
      "source": [
        "import cv2\n",
        "import matplotlib.pyplot as plt\n",
        "# %matplotlib inline"
      ],
      "execution_count": null,
      "outputs": []
    },
    {
      "cell_type": "code",
      "metadata": {
        "id": "Y3PNo9jhxMfd"
      },
      "source": [
        "from google.colab import files\n",
        "uploaded = files.upload()"
      ],
      "execution_count": null,
      "outputs": []
    },
    {
      "cell_type": "code",
      "metadata": {
        "id": "T4J1d_owxmCK"
      },
      "source": [
        "img = cv2.imread('sound.jpg')\n",
        "gray_img = cv2.cvtColor(img, cv2.COLOR_BGR2GRAY)"
      ],
      "execution_count": null,
      "outputs": []
    },
    {
      "cell_type": "code",
      "metadata": {
        "id": "7MEZv6hvzs9Z"
      },
      "source": [
        "canny = cv2.Canny(img, 100, 200)\n",
        "\n",
        "titles = ['image', 'canny']\n",
        "images = [img, canny]\n",
        "for i in range(2):\n",
        "    plt.subplot(1, 2, i+1), plt.imshow(images[i], 'gray')\n",
        "    plt.title(titles[i])\n",
        "    plt.xticks([]),plt.yticks([])\n",
        "\n",
        "plt.show()"
      ],
      "execution_count": null,
      "outputs": []
    },
    {
      "cell_type": "code",
      "metadata": {
        "id": "AVTGZIH3AwxZ"
      },
      "source": [
        ""
      ],
      "execution_count": null,
      "outputs": []
    }
  ]
}